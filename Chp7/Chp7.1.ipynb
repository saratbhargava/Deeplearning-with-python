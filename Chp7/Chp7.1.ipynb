{
  "nbformat": 4,
  "nbformat_minor": 0,
  "metadata": {
    "colab": {
      "name": "Chp7.ipynb",
      "provenance": [],
      "collapsed_sections": [],
      "mount_file_id": "https://github.com/saratbhargava/Deeplearning-with-python/blob/master/Chp7/Chp7.1.ipynb",
      "authorship_tag": "ABX9TyMGFtUZkx3gFaNI+sRO6tZw",
      "include_colab_link": true
    },
    "kernelspec": {
      "name": "python3",
      "display_name": "Python 3"
    }
  },
  "cells": [
    {
      "cell_type": "markdown",
      "metadata": {
        "id": "view-in-github",
        "colab_type": "text"
      },
      "source": [
        "<a href=\"https://colab.research.google.com/github/saratbhargava/Deeplearning-with-python/blob/master/Chp7/Chp7.1.ipynb\" target=\"_parent\"><img src=\"https://colab.research.google.com/assets/colab-badge.svg\" alt=\"Open In Colab\"/></a>"
      ]
    },
    {
      "cell_type": "markdown",
      "metadata": {
        "id": "AbOXssESroiy",
        "colab_type": "text"
      },
      "source": [
        "Some tasks require more than one type of data like text data, images and metadata. All of these requires three different types of neural nets. Text data requires RNN or 1D CNN. Image data requires CNN."
      ]
    },
    {
      "cell_type": "markdown",
      "metadata": {
        "id": "P3bMxrERvnST",
        "colab_type": "text"
      },
      "source": [
        "# Imports"
      ]
    },
    {
      "cell_type": "code",
      "metadata": {
        "id": "O-6okM6AzFKV",
        "colab_type": "code",
        "colab": {}
      },
      "source": [
        "import os\n",
        "\n",
        "import numpy as np\n",
        "import pandas as pd"
      ],
      "execution_count": 9,
      "outputs": []
    },
    {
      "cell_type": "code",
      "metadata": {
        "id": "6uLgjJEFrI-A",
        "colab_type": "code",
        "colab": {}
      },
      "source": [
        "from tensorflow.keras import Input\n",
        "from tensorflow.keras.models import Sequential, Model\n",
        "from tensorflow.keras.layers import Dense, Conv2D, Conv1D, Flatten, MaxPooling2D, MaxPooling1D\n",
        "from tensorflow.keras.activations import relu\n",
        "from tensorflow.keras.optimizers import Adam, SGD\n",
        "from tensorflow.keras.losses import MSE, CategoricalCrossentropy, SparseCategoricalCrossentropy\n",
        "from tensorflow.keras.metrics import MAE\n",
        "from tensorflow.keras.layers import Embedding, LSTM, concatenate, GlobalMaxPooling1D"
      ],
      "execution_count": 40,
      "outputs": []
    },
    {
      "cell_type": "code",
      "metadata": {
        "id": "7pmSvmwKv39F",
        "colab_type": "code",
        "colab": {
          "base_uri": "https://localhost:8080/",
          "height": 230
        },
        "outputId": "af9d4c88-4398-4421-e3d6-8eaf34d5ebd6"
      },
      "source": [
        "input_tensor = Input(shape=(32,))\n",
        "output = Dense(32, activation=relu)(input_tensor)\n",
        "model = Model(input_tensor, output)\n",
        "model.summary()"
      ],
      "execution_count": 4,
      "outputs": [
        {
          "output_type": "stream",
          "text": [
            "Model: \"model\"\n",
            "_________________________________________________________________\n",
            "Layer (type)                 Output Shape              Param #   \n",
            "=================================================================\n",
            "input_1 (InputLayer)         [(None, 32)]              0         \n",
            "_________________________________________________________________\n",
            "dense (Dense)                (None, 32)                1056      \n",
            "=================================================================\n",
            "Total params: 1,056\n",
            "Trainable params: 1,056\n",
            "Non-trainable params: 0\n",
            "_________________________________________________________________\n"
          ],
          "name": "stdout"
        }
      ]
    },
    {
      "cell_type": "code",
      "metadata": {
        "id": "ks07geEcwbGZ",
        "colab_type": "code",
        "colab": {
          "base_uri": "https://localhost:8080/",
          "height": 301
        },
        "outputId": "8c59e325-e512-40aa-9bde-8831febfee24"
      },
      "source": [
        "input_tensor = Input(shape=(32,))\n",
        "layer1_output = Dense(32, activation=relu)(input_tensor)\n",
        "layer2_output = Dense(16, activation=relu)(layer1_output)\n",
        "output = Dense(8, activation=relu)(layer2_output)\n",
        "model = Model(input_tensor, output)\n",
        "model.summary()"
      ],
      "execution_count": 5,
      "outputs": [
        {
          "output_type": "stream",
          "text": [
            "Model: \"model_1\"\n",
            "_________________________________________________________________\n",
            "Layer (type)                 Output Shape              Param #   \n",
            "=================================================================\n",
            "input_2 (InputLayer)         [(None, 32)]              0         \n",
            "_________________________________________________________________\n",
            "dense_1 (Dense)              (None, 32)                1056      \n",
            "_________________________________________________________________\n",
            "dense_2 (Dense)              (None, 16)                528       \n",
            "_________________________________________________________________\n",
            "dense_3 (Dense)              (None, 8)                 136       \n",
            "=================================================================\n",
            "Total params: 1,720\n",
            "Trainable params: 1,720\n",
            "Non-trainable params: 0\n",
            "_________________________________________________________________\n"
          ],
          "name": "stdout"
        }
      ]
    },
    {
      "cell_type": "code",
      "metadata": {
        "id": "OnW9RgnmxOBs",
        "colab_type": "code",
        "colab": {
          "base_uri": "https://localhost:8080/",
          "height": 408
        },
        "outputId": "d3abe511-4093-4faf-a6e8-0bf8a7d91640"
      },
      "source": [
        "model.compile(optimizer=Adam(), loss='MSE', metrics=['MAE'])\n",
        "\n",
        "x_train = np.random.rand(100, 32)\n",
        "y_train = np.random.rand(100, 8)\n",
        "\n",
        "model.fit(x_train, y_train, batch_size=32, epochs=10)\n",
        "\n",
        "print(model.evaluate(x_train, y_train))"
      ],
      "execution_count": 14,
      "outputs": [
        {
          "output_type": "stream",
          "text": [
            "Epoch 1/10\n",
            "4/4 [==============================] - 0s 2ms/step - loss: 0.1707 - MAE: 0.3388\n",
            "Epoch 2/10\n",
            "4/4 [==============================] - 0s 2ms/step - loss: 0.1681 - MAE: 0.3350\n",
            "Epoch 3/10\n",
            "4/4 [==============================] - 0s 2ms/step - loss: 0.1657 - MAE: 0.3315\n",
            "Epoch 4/10\n",
            "4/4 [==============================] - 0s 2ms/step - loss: 0.1647 - MAE: 0.3300\n",
            "Epoch 5/10\n",
            "4/4 [==============================] - 0s 2ms/step - loss: 0.1634 - MAE: 0.3277\n",
            "Epoch 6/10\n",
            "4/4 [==============================] - 0s 2ms/step - loss: 0.1614 - MAE: 0.3258\n",
            "Epoch 7/10\n",
            "4/4 [==============================] - 0s 2ms/step - loss: 0.1605 - MAE: 0.3257\n",
            "Epoch 8/10\n",
            "4/4 [==============================] - 0s 2ms/step - loss: 0.1594 - MAE: 0.3247\n",
            "Epoch 9/10\n",
            "4/4 [==============================] - 0s 2ms/step - loss: 0.1573 - MAE: 0.3222\n",
            "Epoch 10/10\n",
            "4/4 [==============================] - 0s 2ms/step - loss: 0.1546 - MAE: 0.3196\n",
            "4/4 [==============================] - 0s 2ms/step - loss: 0.1522 - MAE: 0.3173\n",
            "[0.15220408141613007, 0.3172810971736908]\n"
          ],
          "name": "stdout"
        }
      ]
    },
    {
      "cell_type": "code",
      "metadata": {
        "id": "Y18-hGExzbwt",
        "colab_type": "code",
        "colab": {}
      },
      "source": [
        "text_vocabulary_size = 10000\n",
        "question_vocabulary_size = 10000\n",
        "answer_vocabulary_size = 500"
      ],
      "execution_count": 15,
      "outputs": []
    },
    {
      "cell_type": "code",
      "metadata": {
        "id": "AlLk6Um9057K",
        "colab_type": "code",
        "colab": {}
      },
      "source": [
        "text_input = Input(shape=(None,), dtype='int32', name='text')\n",
        "embedded_text = Embedding(64, text_vocabulary_size)(text_input)\n",
        "encoded_text = LSTM(32)(embedded_text)\n",
        "\n",
        "question_input = Input(shape=(None,), dtype='int32', name='question')\n",
        "embedded_question = Embedding(32, question_vocabulary_size)(question_input)\n",
        "encoded_question = LSTM(16)(embedded_question)\n",
        "\n",
        "concat = concatenate([encoded_text, encoded_question], axis=-1)\n",
        "answer = Dense(answer_vocabulary_size, activation='softmax')(concat)"
      ],
      "execution_count": 24,
      "outputs": []
    },
    {
      "cell_type": "code",
      "metadata": {
        "id": "7SHuitQ52pLs",
        "colab_type": "code",
        "colab": {}
      },
      "source": [
        "model = Model([text_input, question_input], answer)\n",
        "model.compile(optimizer=Adam(), loss='categorical_crossentropy',\n",
        "              metrics='acc')"
      ],
      "execution_count": 34,
      "outputs": []
    },
    {
      "cell_type": "code",
      "metadata": {
        "id": "q6t7FxKa3Ia4",
        "colab_type": "code",
        "colab": {
          "base_uri": "https://localhost:8080/",
          "height": 461
        },
        "outputId": "0f5456d1-40de-4a5e-c07c-719f658ec67e"
      },
      "source": [
        "model.summary()"
      ],
      "execution_count": 35,
      "outputs": [
        {
          "output_type": "stream",
          "text": [
            "Model: \"model_5\"\n",
            "__________________________________________________________________________________________________\n",
            "Layer (type)                    Output Shape         Param #     Connected to                     \n",
            "==================================================================================================\n",
            "text (InputLayer)               [(None, None)]       0                                            \n",
            "__________________________________________________________________________________________________\n",
            "question (InputLayer)           [(None, None)]       0                                            \n",
            "__________________________________________________________________________________________________\n",
            "embedding_2 (Embedding)         (None, None, 10000)  640000      text[0][0]                       \n",
            "__________________________________________________________________________________________________\n",
            "embedding_3 (Embedding)         (None, None, 10000)  320000      question[0][0]                   \n",
            "__________________________________________________________________________________________________\n",
            "lstm_2 (LSTM)                   (None, 32)           1284224     embedding_2[0][0]                \n",
            "__________________________________________________________________________________________________\n",
            "lstm_3 (LSTM)                   (None, 16)           641088      embedding_3[0][0]                \n",
            "__________________________________________________________________________________________________\n",
            "concatenate_1 (Concatenate)     (None, 48)           0           lstm_2[0][0]                     \n",
            "                                                                 lstm_3[0][0]                     \n",
            "__________________________________________________________________________________________________\n",
            "dense_5 (Dense)                 (None, 500)          24500       concatenate_1[0][0]              \n",
            "==================================================================================================\n",
            "Total params: 2,909,812\n",
            "Trainable params: 2,909,812\n",
            "Non-trainable params: 0\n",
            "__________________________________________________________________________________________________\n"
          ],
          "name": "stdout"
        }
      ]
    },
    {
      "cell_type": "code",
      "metadata": {
        "id": "_PD0Ft4i3JcF",
        "colab_type": "code",
        "colab": {}
      },
      "source": [
        "import numpy as np\n",
        "\n",
        "num_samples = 1000\n",
        "max_length = 100\n",
        "text = np.random.randint(1, text_vocabulary_size,\n",
        "size=(num_samples, max_length))\n",
        "\n",
        "question = np.random.randint(1, question_vocabulary_size,\n",
        "                          size=(num_samples, max_length))\n",
        "answers = np.random.randint(0, 1,\n",
        "                          size=(num_samples, answer_vocabulary_size))\n",
        "\n",
        "model.fit([text, question], answers, epochs=10, batch_size=128)\n",
        "model.fit({'text': text, 'question': question}, answers,\n",
        "                  epochs=10, batch_size=128)"
      ],
      "execution_count": null,
      "outputs": []
    },
    {
      "cell_type": "code",
      "metadata": {
        "id": "aT0p_8QZ4uLU",
        "colab_type": "code",
        "colab": {}
      },
      "source": [
        "vocabulary_size = 50000\n",
        "num_income_groups = 10\n",
        "\n",
        "posts_input = Input(shape=(500,), dtype='int32', name='posts')\n",
        "embedded_posts = Embedding(vocabulary_size, 256)(posts_input)\n",
        "x = Conv1D(128, 5, activation='relu')(embedded_posts)\n",
        "x = MaxPooling1D(5)(x)\n",
        "x = Conv1D(256, 5, activation='relu')(x)\n",
        "x = Conv1D(256, 5, activation='relu')(x)\n",
        "x = MaxPooling1D(5)(x)\n",
        "x = Conv1D(256, 5, activation='relu')(x)\n",
        "x = Conv1D(256, 5, activation='relu')(x)\n",
        "x = GlobalMaxPooling1D()(x)\n",
        "x = Dense(128, activation='relu')(x)\n",
        "\n",
        "age_prediction = Dense(1, name='age')(x)\n",
        "income_prediction = Dense(num_income_groups, activation='softmax',\n",
        "                                 name='income')(x)\n",
        "gender_prediction = Dense(1, activation='sigmoid', name='gender')(x)\n",
        "\n",
        "model = Model(\n",
        "    posts_input, [age_prediction, income_prediction, gender_prediction])"
      ],
      "execution_count": 65,
      "outputs": []
    },
    {
      "cell_type": "code",
      "metadata": {
        "id": "SZc9c3Db486q",
        "colab_type": "code",
        "colab": {}
      },
      "source": [
        "model.compile(optimizer='rmsprop',\n",
        "              loss=['mse', 'categorical_crossentropy', 'binary_crossentropy'])"
      ],
      "execution_count": 66,
      "outputs": []
    },
    {
      "cell_type": "code",
      "metadata": {
        "id": "ED9YIwzY8s9u",
        "colab_type": "code",
        "colab": {
          "base_uri": "https://localhost:8080/",
          "height": 656
        },
        "outputId": "8a297a77-cf31-4a89-819f-9ba1097bde7e"
      },
      "source": [
        "model.summary()"
      ],
      "execution_count": 68,
      "outputs": [
        {
          "output_type": "stream",
          "text": [
            "Model: \"model_10\"\n",
            "__________________________________________________________________________________________________\n",
            "Layer (type)                    Output Shape         Param #     Connected to                     \n",
            "==================================================================================================\n",
            "posts (InputLayer)              [(None, 500)]        0                                            \n",
            "__________________________________________________________________________________________________\n",
            "embedding_12 (Embedding)        (None, 500, 256)     12800000    posts[0][0]                      \n",
            "__________________________________________________________________________________________________\n",
            "conv1d_34 (Conv1D)              (None, 496, 128)     163968      embedding_12[0][0]               \n",
            "__________________________________________________________________________________________________\n",
            "max_pooling1d_14 (MaxPooling1D) (None, 99, 128)      0           conv1d_34[0][0]                  \n",
            "__________________________________________________________________________________________________\n",
            "conv1d_35 (Conv1D)              (None, 95, 256)      164096      max_pooling1d_14[0][0]           \n",
            "__________________________________________________________________________________________________\n",
            "conv1d_36 (Conv1D)              (None, 91, 256)      327936      conv1d_35[0][0]                  \n",
            "__________________________________________________________________________________________________\n",
            "max_pooling1d_15 (MaxPooling1D) (None, 18, 256)      0           conv1d_36[0][0]                  \n",
            "__________________________________________________________________________________________________\n",
            "conv1d_37 (Conv1D)              (None, 14, 256)      327936      max_pooling1d_15[0][0]           \n",
            "__________________________________________________________________________________________________\n",
            "conv1d_38 (Conv1D)              (None, 10, 256)      327936      conv1d_37[0][0]                  \n",
            "__________________________________________________________________________________________________\n",
            "global_max_pooling1d_4 (GlobalM (None, 256)          0           conv1d_38[0][0]                  \n",
            "__________________________________________________________________________________________________\n",
            "dense_10 (Dense)                (None, 128)          32896       global_max_pooling1d_4[0][0]     \n",
            "__________________________________________________________________________________________________\n",
            "age (Dense)                     (None, 1)            129         dense_10[0][0]                   \n",
            "__________________________________________________________________________________________________\n",
            "income (Dense)                  (None, 10)           1290        dense_10[0][0]                   \n",
            "__________________________________________________________________________________________________\n",
            "gender (Dense)                  (None, 1)            129         dense_10[0][0]                   \n",
            "==================================================================================================\n",
            "Total params: 14,146,316\n",
            "Trainable params: 14,146,316\n",
            "Non-trainable params: 0\n",
            "__________________________________________________________________________________________________\n"
          ],
          "name": "stdout"
        }
      ]
    },
    {
      "cell_type": "code",
      "metadata": {
        "id": "hKhzrSbi8tfV",
        "colab_type": "code",
        "colab": {}
      },
      "source": [
        "\n",
        "\n"
      ],
      "execution_count": null,
      "outputs": []
    }
  ]
}