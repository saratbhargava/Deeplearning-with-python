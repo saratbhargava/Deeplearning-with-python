{
  "nbformat": 4,
  "nbformat_minor": 0,
  "metadata": {
    "colab": {
      "name": "Chp5.ipynb",
      "provenance": [],
      "collapsed_sections": [],
      "authorship_tag": "ABX9TyOQ8liEEg5lQRcVkguIFAJ4",
      "include_colab_link": true
    },
    "kernelspec": {
      "name": "python3",
      "display_name": "Python 3"
    },
    "accelerator": "GPU"
  },
  "cells": [
    {
      "cell_type": "markdown",
      "metadata": {
        "id": "view-in-github",
        "colab_type": "text"
      },
      "source": [
        "<a href=\"https://colab.research.google.com/github/saratbhargava/Deeplearning-with-python/blob/master/Chp5/Chp5.ipynb\" target=\"_parent\"><img src=\"https://colab.research.google.com/assets/colab-badge.svg\" alt=\"Open In Colab\"/></a>"
      ]
    },
    {
      "cell_type": "code",
      "metadata": {
        "id": "Om6-7t86YxIn",
        "colab_type": "code",
        "colab": {}
      },
      "source": [
        "import numpy as np\n",
        "import tensorflow as tf\n",
        "\n",
        "from sklearn.model_selection import train_test_split"
      ],
      "execution_count": null,
      "outputs": []
    },
    {
      "cell_type": "code",
      "metadata": {
        "id": "q8IUvmMHSUVh",
        "colab_type": "code",
        "colab": {}
      },
      "source": [
        "from tensorflow.data import Dataset\n",
        "\n",
        "from tensorflow.keras.models import Sequential\n",
        "from tensorflow.keras.layers import Conv2D, Flatten, MaxPool2D, Dense\n",
        "from tensorflow.keras.activations import relu\n",
        "from tensorflow.keras.losses import SparseCategoricalCrossentropy, CategoricalCrossentropy\n",
        "from tensorflow.keras.metrics import Accuracy, sparse_categorical_accuracy, SparseCategoricalAccuracy\n",
        "from tensorflow.keras.optimizers import Adam\n",
        "from tensorflow.keras.datasets import mnist\n",
        "from tensorflow.keras.utils import to_categorical"
      ],
      "execution_count": null,
      "outputs": []
    },
    {
      "cell_type": "markdown",
      "metadata": {
        "id": "l1G6VGWykEzd",
        "colab_type": "text"
      },
      "source": [
        "## networks"
      ]
    },
    {
      "cell_type": "code",
      "metadata": {
        "id": "WpuxPPTmT66w",
        "colab_type": "code",
        "colab": {}
      },
      "source": [
        "def get_shallow_cnn():\n",
        "  model = Sequential()\n",
        "  model.add(Conv2D(16, 3, activation=relu, input_shape=(28, 28, 1)))\n",
        "  model.add(MaxPool2D())\n",
        "  model.add(Conv2D(32, 3, activation=relu))\n",
        "  model.add(MaxPool2D())\n",
        "  model.add(Flatten())\n",
        "  model.add(Dense(128, activation=relu))\n",
        "  model.add(Dense(10))\n",
        "  return model"
      ],
      "execution_count": null,
      "outputs": []
    },
    {
      "cell_type": "markdown",
      "metadata": {
        "id": "Uq6jQVFtYZ8t",
        "colab_type": "text"
      },
      "source": [
        "## mnist"
      ]
    },
    {
      "cell_type": "markdown",
      "metadata": {
        "id": "_hOf1I39YIjz",
        "colab_type": "text"
      },
      "source": [
        "### tf.data.Dataset\n",
        "\n",
        "In this section we will use the tensorflow Dataset object to create a generator for train, test, valid data and use it it to train the network."
      ]
    },
    {
      "cell_type": "code",
      "metadata": {
        "id": "LPPQ1MkWWKlF",
        "colab_type": "code",
        "colab": {}
      },
      "source": [
        "(x_data, y_data), (x_test, y_test) = mnist.load_data()\n",
        "x_data = x_data[..., np.newaxis]\n",
        "x_test = x_test[..., np.newaxis]"
      ],
      "execution_count": null,
      "outputs": []
    },
    {
      "cell_type": "code",
      "metadata": {
        "id": "wIzFIc4FbnrT",
        "colab_type": "code",
        "colab": {
          "base_uri": "https://localhost:8080/",
          "height": 35
        },
        "outputId": "60a4c79b-6e1e-4bde-f6fc-c35a076472bf"
      },
      "source": [
        "x_data.shape, y_data.shape, x_test.shape, y_test.shape"
      ],
      "execution_count": null,
      "outputs": [
        {
          "output_type": "execute_result",
          "data": {
            "text/plain": [
              "((60000, 28, 28, 1), (60000,), (10000, 28, 28, 1), (10000,))"
            ]
          },
          "metadata": {
            "tags": []
          },
          "execution_count": 50
        }
      ]
    },
    {
      "cell_type": "code",
      "metadata": {
        "id": "p2Mo7NtBYt7B",
        "colab_type": "code",
        "colab": {}
      },
      "source": [
        "(x_train, x_valid, y_train, y_valid) = train_test_split(\n",
        "    x_data, y_data, test_size=0.15, random_state=42)"
      ],
      "execution_count": null,
      "outputs": []
    },
    {
      "cell_type": "code",
      "metadata": {
        "id": "F3e4vAcvadF9",
        "colab_type": "code",
        "colab": {
          "base_uri": "https://localhost:8080/",
          "height": 70
        },
        "outputId": "c89f0d0a-bc43-4159-9ff9-b70e9a747e2d"
      },
      "source": [
        "print(x_train.shape, y_train.shape)\n",
        "print(x_valid.shape, y_valid.shape)\n",
        "print(x_test.shape, y_test.shape)"
      ],
      "execution_count": null,
      "outputs": [
        {
          "output_type": "stream",
          "text": [
            "(51000, 28, 28, 1) (51000,)\n",
            "(9000, 28, 28, 1) (9000,)\n",
            "(10000, 28, 28, 1) (10000,)\n"
          ],
          "name": "stdout"
        }
      ]
    },
    {
      "cell_type": "code",
      "metadata": {
        "id": "cEvJOM4PWvVp",
        "colab_type": "code",
        "colab": {}
      },
      "source": [
        "train_dataset = Dataset.from_tensor_slices((x_train, y_train))\n",
        "valid_dataset = Dataset.from_tensor_slices((x_valid, y_valid))\n",
        "test_dataset = Dataset.from_tensor_slices((x_test, y_test))"
      ],
      "execution_count": null,
      "outputs": []
    },
    {
      "cell_type": "code",
      "metadata": {
        "id": "X3XCZzGyXY_W",
        "colab_type": "code",
        "colab": {}
      },
      "source": [
        "train_dataset = train_dataset.batch(64, True)\n",
        "valid_dataset = valid_dataset.batch(64, True)\n",
        "test_dataset = test_dataset.batch(64, True)"
      ],
      "execution_count": null,
      "outputs": []
    },
    {
      "cell_type": "code",
      "metadata": {
        "id": "8J_zEKfPXxzQ",
        "colab_type": "code",
        "colab": {}
      },
      "source": [
        "steps_per_epoch = x_train.shape[0]//64\n",
        "validation_steps = x_valid.shape[0]//64"
      ],
      "execution_count": null,
      "outputs": []
    },
    {
      "cell_type": "markdown",
      "metadata": {
        "id": "sPbIM6FVjH7I",
        "colab_type": "text"
      },
      "source": [
        "#### using model compiled with 'accuracy':"
      ]
    },
    {
      "cell_type": "code",
      "metadata": {
        "id": "LUtu9mITkqVf",
        "colab_type": "code",
        "colab": {
          "base_uri": "https://localhost:8080/",
          "height": 392
        },
        "outputId": "676dddfe-a075-4851-f721-66067bd31fc6"
      },
      "source": [
        "model1 = get_shallow_cnn()\n",
        "\n",
        "model1.compile(optimizer=Adam(),\n",
        "              loss=SparseCategoricalCrossentropy(True),\n",
        "              metrics=['accuracy'])\n",
        "\n",
        "history1 = model1.fit(train_dataset, steps_per_epoch=steps_per_epoch,\n",
        "              validation_data=valid_dataset,\n",
        "              epochs=10, validation_steps=validation_steps)"
      ],
      "execution_count": null,
      "outputs": [
        {
          "output_type": "stream",
          "text": [
            "Epoch 1/10\n",
            "796/796 [==============================] - 2s 3ms/step - loss: 0.3920 - accuracy: 0.9293 - val_loss: 0.0941 - val_accuracy: 0.9735\n",
            "Epoch 2/10\n",
            "796/796 [==============================] - 2s 3ms/step - loss: 0.0656 - accuracy: 0.9799 - val_loss: 0.0797 - val_accuracy: 0.9795\n",
            "Epoch 3/10\n",
            "796/796 [==============================] - 2s 2ms/step - loss: 0.0418 - accuracy: 0.9871 - val_loss: 0.0734 - val_accuracy: 0.9812\n",
            "Epoch 4/10\n",
            "796/796 [==============================] - 2s 3ms/step - loss: 0.0304 - accuracy: 0.9903 - val_loss: 0.0704 - val_accuracy: 0.9833\n",
            "Epoch 5/10\n",
            "796/796 [==============================] - 2s 2ms/step - loss: 0.0339 - accuracy: 0.9895 - val_loss: 0.0844 - val_accuracy: 0.9794\n",
            "Epoch 6/10\n",
            "796/796 [==============================] - 2s 3ms/step - loss: 0.0278 - accuracy: 0.9905 - val_loss: 0.0677 - val_accuracy: 0.9846\n",
            "Epoch 7/10\n",
            "796/796 [==============================] - 2s 2ms/step - loss: 0.0266 - accuracy: 0.9910 - val_loss: 0.0819 - val_accuracy: 0.9838\n",
            "Epoch 8/10\n",
            "796/796 [==============================] - 2s 2ms/step - loss: 0.0229 - accuracy: 0.9928 - val_loss: 0.0804 - val_accuracy: 0.9843\n",
            "Epoch 9/10\n",
            "796/796 [==============================] - 2s 3ms/step - loss: 0.0218 - accuracy: 0.9932 - val_loss: 0.0726 - val_accuracy: 0.9853\n",
            "Epoch 10/10\n",
            "796/796 [==============================] - 2s 2ms/step - loss: 0.0216 - accuracy: 0.9929 - val_loss: 0.0963 - val_accuracy: 0.9824\n"
          ],
          "name": "stdout"
        }
      ]
    },
    {
      "cell_type": "markdown",
      "metadata": {
        "id": "DjPqmrtJjM-C",
        "colab_type": "text"
      },
      "source": [
        "#### using model compiled with 'sparse categorical accuracy':"
      ]
    },
    {
      "cell_type": "code",
      "metadata": {
        "id": "gPeX6yaKhPaC",
        "colab_type": "code",
        "colab": {
          "base_uri": "https://localhost:8080/",
          "height": 392
        },
        "outputId": "8a9a1dfc-ec63-4d66-ab65-867259b0be8f"
      },
      "source": [
        "model2 = get_shallow_cnn()\n",
        "\n",
        "model2.compile(optimizer=Adam(),\n",
        "              loss=SparseCategoricalCrossentropy(True),\n",
        "              metrics=[SparseCategoricalAccuracy()])\n",
        "\n",
        "history2 = model2.fit(\n",
        "    train_dataset, steps_per_epoch=steps_per_epoch,\n",
        "    validation_data=valid_dataset,\n",
        "    epochs=10, validation_steps=validation_steps)"
      ],
      "execution_count": null,
      "outputs": [
        {
          "output_type": "stream",
          "text": [
            "Epoch 1/10\n",
            "796/796 [==============================] - 2s 3ms/step - loss: 0.4957 - sparse_categorical_accuracy: 0.9213 - val_loss: 0.0961 - val_sparse_categorical_accuracy: 0.9705\n",
            "Epoch 2/10\n",
            "796/796 [==============================] - 2s 3ms/step - loss: 0.0732 - sparse_categorical_accuracy: 0.9780 - val_loss: 0.0708 - val_sparse_categorical_accuracy: 0.9802\n",
            "Epoch 3/10\n",
            "796/796 [==============================] - 2s 3ms/step - loss: 0.0450 - sparse_categorical_accuracy: 0.9858 - val_loss: 0.0635 - val_sparse_categorical_accuracy: 0.9839\n",
            "Epoch 4/10\n",
            "796/796 [==============================] - 2s 3ms/step - loss: 0.0329 - sparse_categorical_accuracy: 0.9898 - val_loss: 0.0723 - val_sparse_categorical_accuracy: 0.9846\n",
            "Epoch 5/10\n",
            "796/796 [==============================] - 2s 3ms/step - loss: 0.0326 - sparse_categorical_accuracy: 0.9892 - val_loss: 0.0779 - val_sparse_categorical_accuracy: 0.9823\n",
            "Epoch 6/10\n",
            "796/796 [==============================] - 2s 2ms/step - loss: 0.0306 - sparse_categorical_accuracy: 0.9900 - val_loss: 0.0604 - val_sparse_categorical_accuracy: 0.9859\n",
            "Epoch 7/10\n",
            "796/796 [==============================] - 2s 3ms/step - loss: 0.0263 - sparse_categorical_accuracy: 0.9911 - val_loss: 0.0753 - val_sparse_categorical_accuracy: 0.9824\n",
            "Epoch 8/10\n",
            "796/796 [==============================] - 2s 2ms/step - loss: 0.0264 - sparse_categorical_accuracy: 0.9917 - val_loss: 0.0684 - val_sparse_categorical_accuracy: 0.9862\n",
            "Epoch 9/10\n",
            "796/796 [==============================] - 2s 3ms/step - loss: 0.0227 - sparse_categorical_accuracy: 0.9927 - val_loss: 0.0877 - val_sparse_categorical_accuracy: 0.9824\n",
            "Epoch 10/10\n",
            "796/796 [==============================] - 2s 3ms/step - loss: 0.0197 - sparse_categorical_accuracy: 0.9934 - val_loss: 0.0815 - val_sparse_categorical_accuracy: 0.9833\n"
          ],
          "name": "stdout"
        }
      ]
    },
    {
      "cell_type": "markdown",
      "metadata": {
        "id": "jL2OrUlPlDbV",
        "colab_type": "text"
      },
      "source": [
        "#### using model compiled with 'Accuracy':"
      ]
    },
    {
      "cell_type": "markdown",
      "metadata": {
        "id": "2Pr9FQvforB8",
        "colab_type": "text"
      },
      "source": [
        "\n",
        "\n",
        "```\n",
        "model3 = get_shallow_cnn()\n",
        "\n",
        "model3.compile(optimizer=Adam(),\n",
        "              loss=SparseCategoricalCrossentropy(True),\n",
        "              metrics=[Accuracy()])\n",
        "\n",
        "history3 = model3.fit(\n",
        "    train_dataset, steps_per_epoch=steps_per_epoch,\n",
        "    validation_data=valid_dataset,\n",
        "    epochs=10, validation_steps=validation_steps)\n",
        "\n",
        "# Results in an error:\n",
        "    ValueError: Shapes (64, 10) and (64, 1) are incompatible\n",
        "\n",
        "```\n",
        "\n"
      ]
    },
    {
      "cell_type": "code",
      "metadata": {
        "id": "6am9P2-YmaEa",
        "colab_type": "code",
        "colab": {
          "base_uri": "https://localhost:8080/",
          "height": 35
        },
        "outputId": "66ab40a4-26ba-46fe-e801-8fdb09bf4972"
      },
      "source": [
        "y_train = to_categorical(y_train)\n",
        "y_valid = to_categorical(y_valid)\n",
        "y_test = to_categorical(y_test)\n",
        "print(y_train.shape, y_valid.shape, y_test.shape)\n",
        "train_dataset3 = Dataset.from_tensor_slices((x_train, y_train))\n",
        "valid_dataset3 = Dataset.from_tensor_slices((x_valid, y_valid))\n",
        "test_dataset3 = Dataset.from_tensor_slices((x_test, y_test))"
      ],
      "execution_count": null,
      "outputs": [
        {
          "output_type": "stream",
          "text": [
            "(51000, 10) (9000, 10) (10000, 10)\n"
          ],
          "name": "stdout"
        }
      ]
    },
    {
      "cell_type": "code",
      "metadata": {
        "id": "nCQVgyhOnozY",
        "colab_type": "code",
        "colab": {
          "base_uri": "https://localhost:8080/",
          "height": 53
        },
        "outputId": "5c4e2dae-5a2f-4d9f-feff-7583a6c8e075"
      },
      "source": [
        "train_dataset3.element_spec"
      ],
      "execution_count": null,
      "outputs": [
        {
          "output_type": "execute_result",
          "data": {
            "text/plain": [
              "(TensorSpec(shape=(28, 28, 1), dtype=tf.uint8, name=None),\n",
              " TensorSpec(shape=(10,), dtype=tf.float32, name=None))"
            ]
          },
          "metadata": {
            "tags": []
          },
          "execution_count": 63
        }
      ]
    },
    {
      "cell_type": "code",
      "metadata": {
        "id": "ug5zLlq6nyLI",
        "colab_type": "code",
        "colab": {}
      },
      "source": [
        "train_dataset3 = train_dataset3.batch(64, True)\n",
        "valid_dataset3 = valid_dataset3.batch(64, True)\n",
        "test_dataset3 = test_dataset3.batch(64, True)"
      ],
      "execution_count": null,
      "outputs": []
    },
    {
      "cell_type": "code",
      "metadata": {
        "id": "x7ECrpkXoEGA",
        "colab_type": "code",
        "colab": {
          "base_uri": "https://localhost:8080/",
          "height": 53
        },
        "outputId": "077e38f0-2e61-47da-85fe-dabb93d67342"
      },
      "source": [
        "train_dataset3.element_spec"
      ],
      "execution_count": null,
      "outputs": [
        {
          "output_type": "execute_result",
          "data": {
            "text/plain": [
              "(TensorSpec(shape=(64, 28, 28, 1), dtype=tf.uint8, name=None),\n",
              " TensorSpec(shape=(64, 10), dtype=tf.float32, name=None))"
            ]
          },
          "metadata": {
            "tags": []
          },
          "execution_count": 66
        }
      ]
    },
    {
      "cell_type": "code",
      "metadata": {
        "id": "SVjhXb-0mO9Q",
        "colab_type": "code",
        "colab": {
          "base_uri": "https://localhost:8080/",
          "height": 392
        },
        "outputId": "2a6113ba-dd11-4add-a758-c31218b722a5"
      },
      "source": [
        "model3 = get_shallow_cnn()\n",
        "\n",
        "model3.compile(optimizer=Adam(),\n",
        "              loss=CategoricalCrossentropy(True),\n",
        "              metrics=[Accuracy()])\n",
        "\n",
        "history3 = model3.fit(\n",
        "    train_dataset3, steps_per_epoch=steps_per_epoch,\n",
        "    validation_data=valid_dataset3,\n",
        "    epochs=10, validation_steps=validation_steps)"
      ],
      "execution_count": null,
      "outputs": [
        {
          "output_type": "stream",
          "text": [
            "Epoch 1/10\n",
            "796/796 [==============================] - 2s 3ms/step - loss: 0.7034 - accuracy: 0.0000e+00 - val_loss: 0.1246 - val_accuracy: 0.0000e+00\n",
            "Epoch 2/10\n",
            "796/796 [==============================] - 2s 3ms/step - loss: 0.0878 - accuracy: 0.0000e+00 - val_loss: 0.1037 - val_accuracy: 0.0000e+00\n",
            "Epoch 3/10\n",
            "796/796 [==============================] - 2s 3ms/step - loss: 0.0553 - accuracy: 0.0000e+00 - val_loss: 0.0806 - val_accuracy: 0.0000e+00\n",
            "Epoch 4/10\n",
            "796/796 [==============================] - 2s 3ms/step - loss: 0.0414 - accuracy: 0.0000e+00 - val_loss: 0.0776 - val_accuracy: 0.0000e+00\n",
            "Epoch 5/10\n",
            "796/796 [==============================] - 2s 3ms/step - loss: 0.0380 - accuracy: 0.0000e+00 - val_loss: 0.0733 - val_accuracy: 0.0000e+00\n",
            "Epoch 6/10\n",
            "796/796 [==============================] - 2s 3ms/step - loss: 0.0342 - accuracy: 0.0000e+00 - val_loss: 0.0613 - val_accuracy: 0.0000e+00\n",
            "Epoch 7/10\n",
            "796/796 [==============================] - 2s 3ms/step - loss: 0.0281 - accuracy: 0.0000e+00 - val_loss: 0.0677 - val_accuracy: 0.0000e+00\n",
            "Epoch 8/10\n",
            "796/796 [==============================] - 2s 3ms/step - loss: 0.0271 - accuracy: 0.0000e+00 - val_loss: 0.0665 - val_accuracy: 0.0000e+00\n",
            "Epoch 9/10\n",
            "796/796 [==============================] - 2s 3ms/step - loss: 0.0261 - accuracy: 0.0000e+00 - val_loss: 0.0684 - val_accuracy: 0.0000e+00\n",
            "Epoch 10/10\n",
            "796/796 [==============================] - 2s 3ms/step - loss: 0.0185 - accuracy: 0.0000e+00 - val_loss: 0.0768 - val_accuracy: 0.0000e+00\n"
          ],
          "name": "stdout"
        }
      ]
    },
    {
      "cell_type": "markdown",
      "metadata": {
        "id": "ge1ZP3_Ss-8O",
        "colab_type": "text"
      },
      "source": [
        "### ImageDataGenerator\n",
        "\n",
        "tf.keras image data generator object is specifically designed for images"
      ]
    },
    {
      "cell_type": "code",
      "metadata": {
        "id": "4wV6JAIWtDI0",
        "colab_type": "code",
        "colab": {}
      },
      "source": [
        "(x_data, y_data), (x_test, y_test) = mnist.load_data()\n",
        "x_data = x_data[..., np.newaxis]\n",
        "x_test = x_test[..., np.newaxis]"
      ],
      "execution_count": null,
      "outputs": []
    },
    {
      "cell_type": "code",
      "metadata": {
        "id": "KRsbLUAetear",
        "colab_type": "code",
        "colab": {}
      },
      "source": [
        "x_data.shape, y_data.shape, x_test.shape, y_test.shape"
      ],
      "execution_count": null,
      "outputs": []
    }
  ]
}